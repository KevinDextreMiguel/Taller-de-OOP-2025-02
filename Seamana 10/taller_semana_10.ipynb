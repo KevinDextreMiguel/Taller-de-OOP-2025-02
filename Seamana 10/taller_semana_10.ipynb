{
  "cells": [
    {
      "cell_type": "code",
      "source": [
        "# Herencia\n",
        "  # Atributos\n",
        "  # Mètodos"
      ],
      "metadata": {
        "id": "iGG0slZgTBhX"
      },
      "execution_count": null,
      "outputs": []
    },
    {
      "cell_type": "code",
      "source": [
        "class Animal: # Clase base (padre)\n",
        "  def __init__(self, nombre, raza, edad):\n",
        "    self.__nombre = nombre\n",
        "    self.__raza = raza\n",
        "    self.__edad = edad\n",
        "\n",
        "  def correr(self):\n",
        "    print(f\"{self.__nombre} está corriendo\")\n",
        "\n",
        "  def __str__(self):\n",
        "    return f\"Nombre: {self.__nombre }, Raza: {self.__raza}, Edad: {self.__edad}\""
      ],
      "metadata": {
        "id": "VFK9ZFldUhuS"
      },
      "execution_count": 10,
      "outputs": []
    },
    {
      "cell_type": "code",
      "source": [
        "class Gato(Animal): # Clase hija (derivada)\n",
        "  def __init__(self, nombre, raza, edad, color):\n",
        "    super().__init__(nombre, raza, edad)\n",
        "    self.__color = color"
      ],
      "metadata": {
        "id": "7R1MUiMAU-_J"
      },
      "execution_count": 11,
      "outputs": []
    },
    {
      "cell_type": "code",
      "source": [
        "objetoGato = Gato(\"Gato 1\",\"raza 1\",1,\"Negro\")\n",
        "objetoGato.correr()\n",
        "print(objetoGato)"
      ],
      "metadata": {
        "id": "FyV96jJoVRxE",
        "outputId": "2ee365a5-46dc-4da1-d4db-db3906879204",
        "colab": {
          "base_uri": "https://localhost:8080/"
        }
      },
      "execution_count": 9,
      "outputs": [
        {
          "output_type": "stream",
          "name": "stdout",
          "text": [
            "Gato 1 está corriendo\n",
            "Nombre: Gato 1, Raza: raza 1, Edad: 1\n"
          ]
        }
      ]
    },
    {
      "cell_type": "markdown",
      "source": [
        "# Agregaciòn"
      ],
      "metadata": {
        "id": "wLfXGHMNXSDx"
      }
    },
    {
      "cell_type": "code",
      "source": [
        "class Bala:\n",
        "  def __init__(self,id,marca):\n",
        "    self.__id = id\n",
        "    self.__marca = marca\n",
        "\n",
        "  def __str__(self):\n",
        "    return f\"{self.__id}, {self.__marca}\""
      ],
      "metadata": {
        "id": "sHHMxyXdXVGm"
      },
      "execution_count": 23,
      "outputs": []
    },
    {
      "cell_type": "code",
      "source": [
        "class Jugador:\n",
        "  def __init__(self,nombre):\n",
        "    self.__nombre = nombre\n",
        "\n",
        "  def __str__(self):\n",
        "    return f\"Nombre: {self.__nombre}\"\n",
        "\n",
        "\n",
        "  def disparar(self,objeto_bala):\n",
        "    print(f\"El jugador {self.__nombre} ha disparado la bala {objeto_bala}\")"
      ],
      "metadata": {
        "id": "9olSnH7YX6Na"
      },
      "execution_count": 24,
      "outputs": []
    },
    {
      "cell_type": "code",
      "source": [
        "objeto_bala = Bala(1,\"marca 1\")\n",
        "objeto_jugador = Jugador(\"Ezio\")\n",
        "print(objeto_jugador)\n",
        "objeto_jugador.disparar(objeto_bala)\n",
        "\n",
        "del objeto_jugador"
      ],
      "metadata": {
        "id": "iiyW7dWrYvgj",
        "outputId": "168a6abf-9421-44e5-c555-b449f0c794e7",
        "colab": {
          "base_uri": "https://localhost:8080/"
        }
      },
      "execution_count": 26,
      "outputs": [
        {
          "output_type": "stream",
          "name": "stdout",
          "text": [
            "Nombre: Ezio\n",
            "El jugador Ezio ha disparado la bala 1, marca 1\n"
          ]
        }
      ]
    },
    {
      "cell_type": "markdown",
      "source": [
        "# Composiciòn"
      ],
      "metadata": {
        "id": "U06VB-58aTDA"
      }
    },
    {
      "cell_type": "code",
      "source": [
        "class Motor:\n",
        "  def __init__(self,marca):\n",
        "    self.__marca = marca\n",
        "\n",
        "  def __str__(self):\n",
        "    return f\"{self.__marca}\"\n",
        "\n",
        "  def arrancar(self):\n",
        "    print(f\"El motor {self.__marca} está arrancado\")\n",
        "\n",
        "  @property\n",
        "  def marca(self):\n",
        "    return self.__marca\n",
        "\n",
        "  @marca.setter\n",
        "  def marca(self,marca_nueva):\n",
        "    self.__marca = marca_nueva"
      ],
      "metadata": {
        "id": "xw7PXT5oaWbN"
      },
      "execution_count": 45,
      "outputs": []
    },
    {
      "cell_type": "code",
      "source": [
        "class Carro:\n",
        "  def __init__(self,marca,color,velocidad,marca_motor):\n",
        "    self.__marca = marca\n",
        "    self.__color = color\n",
        "    self.__velocidad = velocidad\n",
        "    self.__objeto_motor = Motor(marca_motor)\n",
        "\n",
        "  def __str__(self):\n",
        "    return f\"{self.__marca}, {self.__color}, {self.__velocidad}\"\n",
        "\n",
        "  def arrancar(self):\n",
        "    self.__objeto_motor.arrancar()\n",
        "\n",
        "  @property\n",
        "  def marca(self):\n",
        "    return self.__marca\n",
        "\n",
        "  @marca.setter\n",
        "  def marca(self,marca_nueva):\n",
        "    self.__marca = marca_nueva\n",
        "\n",
        "  @property\n",
        "  def color(self):\n",
        "    return self.__color\n",
        "\n",
        "  @color.setter\n",
        "  def color(self,color_nuevo):\n",
        "    self.__color = color_nuevo"
      ],
      "metadata": {
        "id": "GlrfKEAQauWN"
      },
      "execution_count": 47,
      "outputs": []
    },
    {
      "cell_type": "code",
      "source": [
        "objeto_carro = Carro(\"BYD\",\"Negro\",\"200 km/h\",\"Motor 1\")\n",
        "print(objeto_carro)\n",
        "objeto_carro.arrancar()\n",
        "\n",
        "if objeto_carro.marca == \"BYD\":\n",
        "  objeto_carro.color = \"Rosado\"\n",
        "\n",
        "print(\"Despuès de modificar el color\")\n",
        "print(objeto_carro)"
      ],
      "metadata": {
        "id": "bGt1ZmgWbojV",
        "outputId": "64761fa4-a9de-4769-e184-c653c2ad97d2",
        "colab": {
          "base_uri": "https://localhost:8080/"
        }
      },
      "execution_count": 48,
      "outputs": [
        {
          "output_type": "stream",
          "name": "stdout",
          "text": [
            "BYD, Negro, 200 km/h\n",
            "El motor Motor 1 está arrancado\n",
            "Despuès de modificar el color\n",
            "BYD, Rosado, 200 km/h\n"
          ]
        }
      ]
    },
    {
      "cell_type": "markdown",
      "source": [
        "# Ejercicio 1"
      ],
      "metadata": {
        "id": "gUkTs8-8hRL1"
      }
    },
    {
      "cell_type": "code",
      "source": [
        "class Computadora:\n",
        "  __lista = list()\n",
        "  def __init__(self,precio,procesador,pantalla):\n",
        "    self.__precio = precio\n",
        "    self.__procesador = procesador\n",
        "    self.__pantalla = pantalla\n",
        "    self.__precio_final = 0\n",
        "\n",
        "  def __str__(self):\n",
        "    return f\"Precio: {self.__precio}, Procesador: {self.__procesador}, Pantalla: {self.__pantalla}, Precio final: {self.__precio_final}\"\n",
        "\n",
        "  def agregar(self,objeto):\n",
        "    self.__lista.append(objeto)\n",
        "\n",
        "  def mostrar(self):\n",
        "    for objeto in self.__lista:\n",
        "      print(objeto)\n",
        "\n",
        "  def calcular_precio_final(self):\n",
        "    pass\n",
        "\n",
        "  @property\n",
        "  def precio(self):\n",
        "    return self.__precio\n",
        "  @precio.setter\n",
        "  def precio(self,precio_nuevo):\n",
        "    self.__precio = precio_nuevo\n",
        "\n",
        "  @property\n",
        "  def procesador(self):\n",
        "    return self.__procesador\n",
        "  @procesador.setter\n",
        "  def procesador(self,procesador_nuevo):\n",
        "    self.__procesador = procesador_nuevo\n",
        "\n",
        "  @property\n",
        "  def pantalla(self):\n",
        "    return self.__pantalla\n",
        "  @pantalla.setter\n",
        "  def pantalla(self,pantalla_nueva):\n",
        "    self.__pantalla = pantalla_nueva\n",
        "\n",
        "  @property\n",
        "  def precio_final(self):\n",
        "    return self.__precio_final\n",
        "  @precio_final.setter\n",
        "  def precio_final(self,precio_final_nuevo):\n",
        "    self.__precio_final = precio_final_nuevo\n"
      ],
      "metadata": {
        "id": "Nyb0P3QNhSo7"
      },
      "execution_count": 84,
      "outputs": []
    },
    {
      "cell_type": "code",
      "source": [
        "class Laptop(Computadora):\n",
        "  def __init__(self,precio,procesador,pantalla):\n",
        "    super().__init__(precio,procesador,pantalla)\n",
        "    self.calcular_precio_final()\n",
        "\n",
        "  def calcular_precio_final(self):\n",
        "    self.precio_final = self.precio\n",
        "    if self.procesador == \"i5\":\n",
        "      self.precio_final += self.precio * 0.1\n",
        "    elif self.procesador == \"i7\":\n",
        "      self.precio_final += self.precio * 0.15\n",
        "\n",
        "    if self.pantalla == \"táctil\":\n",
        "      self.precio_final += self.precio * 0.05"
      ],
      "metadata": {
        "id": "MRIdNZLJidq9"
      },
      "execution_count": 85,
      "outputs": []
    },
    {
      "cell_type": "code",
      "source": [
        "class Desktop(Computadora):\n",
        "  def __init__(self,precio,procesador,pantalla):\n",
        "    super().__init__(precio,procesador,pantalla)\n",
        "    self.calcular_precio_final()\n",
        "\n",
        "  def calcular_precio_final(self):\n",
        "    self.precio_final = self.precio\n",
        "    if self.procesador == \"i5\":\n",
        "      self.precio_final += self.precio * 0.08\n",
        "    elif self.procesador == \"i7\":\n",
        "      self.precio_final += self.precio * 0.12\n",
        "\n",
        "    if self.pantalla == \"HD\":\n",
        "      self.precio_final += 200\n",
        "    elif self.pantalla == \"4K\":\n",
        "      self.precio_final += 300"
      ],
      "metadata": {
        "id": "Zm5TcGGqidtM"
      },
      "execution_count": 86,
      "outputs": []
    },
    {
      "cell_type": "code",
      "source": [
        "objeto_laptop1 = Laptop(1000,\"i5\",\"táctil\")\n",
        "objeto_laptop2 = Laptop(1000,\"i7\",\"táctil\")\n",
        "objeto_laptop3 = Laptop(1000,\"i3\",\"normal\")\n",
        "\n",
        "objeto_desktop1 = Desktop(600,\"i5\",\"HD\")\n",
        "objeto_desktop2 = Desktop(600,\"i7\",\"4K\")\n",
        "objeto_desktop3 = Desktop(600,\"i3\",\"normal\")\n",
        "\n",
        "objeto_laptop1.agregar(objeto_laptop1)\n",
        "objeto_laptop1.agregar(objeto_laptop2)\n",
        "objeto_laptop1.agregar(objeto_laptop3)\n",
        "\n",
        "objeto_desktop1.agregar(objeto_desktop1)\n",
        "objeto_desktop1.agregar(objeto_desktop2)\n",
        "objeto_desktop1.agregar(objeto_desktop3)\n",
        "\n",
        "objeto_desktop1.mostrar()"
      ],
      "metadata": {
        "id": "gTvVeksmkn_T",
        "outputId": "01cd3f90-6885-4a3c-950e-a5bbf72830a4",
        "colab": {
          "base_uri": "https://localhost:8080/"
        }
      },
      "execution_count": 88,
      "outputs": [
        {
          "output_type": "stream",
          "name": "stdout",
          "text": [
            "Precio: 1000, Procesador: i5, Pantalla: táctil, Precio final: 1150.0\n",
            "Precio: 1000, Procesador: i7, Pantalla: táctil, Precio final: 1200.0\n",
            "Precio: 1000, Procesador: i3, Pantalla: normal, Precio final: 1000\n",
            "Precio: 600, Procesador: i5, Pantalla: HD, Precio final: 848.0\n",
            "Precio: 600, Procesador: i7, Pantalla: 4K, Precio final: 972.0\n",
            "Precio: 600, Procesador: i3, Pantalla: normal, Precio final: 600\n"
          ]
        }
      ]
    },
    {
      "cell_type": "markdown",
      "source": [
        "# Ejercicio 2"
      ],
      "metadata": {
        "id": "M9MgGoSuqSih"
      }
    },
    {
      "cell_type": "code",
      "source": [
        "import pandas as pd\n",
        "\n",
        "class Volumen():#base\n",
        "  def __init__(self,numero,nombre):\n",
        "    self.__numero = numero\n",
        "    self.__nombre = nombre\n",
        "  def get_numero(self):\n",
        "    return self.__numero\n",
        "  def get_nombre(self):\n",
        "    return self.__nombre\n",
        "  def set_numero(self,numero):\n",
        "    self.__numero = numero\n",
        "  def set_nombre(self,nombre):\n",
        "    self.__nombre = nombre\n",
        "  def __str__(self):\n",
        "    return f'numero: {self.__numero}, nombre: {self.__nombre}'"
      ],
      "metadata": {
        "id": "nV4VMEoHqVN-"
      },
      "execution_count": 89,
      "outputs": []
    },
    {
      "cell_type": "code",
      "source": [
        "class Libro(Volumen):\n",
        "  def __init__(self,numero,nombre,id):\n",
        "    super().__init__(numero,nombre)\n",
        "    self.__id = id\n",
        "  def get_id(self):\n",
        "    return self.__id\n",
        "  def set_id(self,id):\n",
        "    self.__id = id"
      ],
      "metadata": {
        "id": "IBQSbvlQqV9L"
      },
      "execution_count": 90,
      "outputs": []
    },
    {
      "cell_type": "code",
      "source": [
        "class Periodico(Volumen):\n",
        "  def __init__(self,numero,nombre,id):\n",
        "    super().__init__(numero,nombre)\n",
        "    self.__id = id\n",
        "  def get_id(self):\n",
        "    return self.__id\n",
        "  def set_id(self,id):\n",
        "    self.__id = id"
      ],
      "metadata": {
        "id": "6yaibgDnqZdi"
      },
      "execution_count": 91,
      "outputs": []
    },
    {
      "cell_type": "code",
      "source": [
        "class Biblioteca():\n",
        "  def __init__(self,nombre,direccion):\n",
        "    self.__nombre = nombre\n",
        "    self.__direccion = direccion\n",
        "    self.__lista = []\n",
        "  def agregar(self,objeto):\n",
        "    if self.existe_elemento(objeto):\n",
        "      print('ya existe el elemento')\n",
        "    else:\n",
        "      self.__lista.append(objeto)\n",
        "      print('añadido exitosamente')\n",
        "  def existe_elemento(self,obj):\n",
        "    for objeto in self.__lista:\n",
        "      if objeto.get_numero() == obj.get_numero():\n",
        "        return True\n",
        "    return False\n",
        "  def eliminar(self,posicion):\n",
        "    if posicion >= 0 and posicion < len(self.__lista):\n",
        "      self.__lista.pop(posicion)\n",
        "    else:\n",
        "      print('posicion invàlida')\n",
        "  def listar(self):\n",
        "    for obj in self.__lista:\n",
        "      print(obj)\n",
        "  def guardar_excel(self):\n",
        "    lista1 = []\n",
        "    lista2 = []\n",
        "    for obj in self.__lista:\n",
        "      lista1.append(obj.get_numero())\n",
        "      lista2.append(obj.get_nombre())\n",
        "    df = pd.DataFrame({\"id\":lista1,\"nombre\":lista2})\n",
        "    df.to_excel('dato.xlsx',sheet_name='ejercicio 2',index=False)\n",
        "\n",
        "    pd.DataFrame()\n",
        "  #get\n",
        "  def get_nombre(self):\n",
        "    return self.__nombre\n",
        "  def set_nombre(self,nombre):\n",
        "    self.__nombre = nombre\n",
        "  #set\n",
        "  def set_direccion(self,direccion):\n",
        "    self.__direccion = direccion\n",
        "  def get_direccion(self):\n",
        "    return self.__direccion"
      ],
      "metadata": {
        "id": "k2FeWRddqcpd"
      },
      "execution_count": 92,
      "outputs": []
    },
    {
      "cell_type": "code",
      "source": [
        "obj_periodico = Periodico(1,'Trome',1)\n",
        "obj_biblioteca = Biblioteca('biblioteca','direccion')\n",
        "obj_biblioteca.agregar(obj_periodico)\n",
        "\n",
        "obj_libro = Libro(2,'Las Adas',2)\n",
        "obj_biblioteca.agregar(obj_libro)\n",
        "\n",
        "obj_biblioteca.listar()\n",
        "obj_biblioteca.guardar_excel()"
      ],
      "metadata": {
        "id": "sOghvLjsqdZJ",
        "outputId": "c886128f-2acb-4387-f48c-ee48287d7e5c",
        "colab": {
          "base_uri": "https://localhost:8080/"
        }
      },
      "execution_count": 93,
      "outputs": [
        {
          "output_type": "stream",
          "name": "stdout",
          "text": [
            "añadido exitosamente\n",
            "añadido exitosamente\n",
            "numero: 1, nombre: Trome\n",
            "numero: 2, nombre: Las Adas\n"
          ]
        }
      ]
    },
    {
      "cell_type": "code",
      "source": [
        "# Ejemplo pandas\n",
        "import pandas as pd\n",
        "\n",
        "data = {\n",
        "  \"calories\": [420, 380, 390],\n",
        "  \"duration\": [50, 40, 45]\n",
        "}\n",
        "\n",
        "#load data into a DataFrame object:\n",
        "df = pd.DataFrame(data)\n",
        "print(df)"
      ],
      "metadata": {
        "id": "iuKZvNLcsLHM",
        "outputId": "4f993c58-ebae-4072-cb1d-1bc0efedd570",
        "colab": {
          "base_uri": "https://localhost:8080/"
        }
      },
      "execution_count": 100,
      "outputs": [
        {
          "output_type": "stream",
          "name": "stdout",
          "text": [
            "   calories  duration\n",
            "0       420        50\n",
            "1       380        40\n",
            "2       390        45\n"
          ]
        }
      ]
    },
    {
      "cell_type": "code",
      "source": [
        "df"
      ],
      "metadata": {
        "id": "034dMrs6s4Gk",
        "outputId": "e4b3c90c-f7d1-485c-c154-cb7aee3390c1",
        "colab": {
          "base_uri": "https://localhost:8080/",
          "height": 143
        }
      },
      "execution_count": 96,
      "outputs": [
        {
          "output_type": "execute_result",
          "data": {
            "text/plain": [
              "   calories  duration\n",
              "0       420        50\n",
              "1       380        40\n",
              "2       390        45"
            ],
            "text/html": [
              "\n",
              "  <div id=\"df-6733e16b-b5fb-4ca8-b183-111cf356a281\" class=\"colab-df-container\">\n",
              "    <div>\n",
              "<style scoped>\n",
              "    .dataframe tbody tr th:only-of-type {\n",
              "        vertical-align: middle;\n",
              "    }\n",
              "\n",
              "    .dataframe tbody tr th {\n",
              "        vertical-align: top;\n",
              "    }\n",
              "\n",
              "    .dataframe thead th {\n",
              "        text-align: right;\n",
              "    }\n",
              "</style>\n",
              "<table border=\"1\" class=\"dataframe\">\n",
              "  <thead>\n",
              "    <tr style=\"text-align: right;\">\n",
              "      <th></th>\n",
              "      <th>calories</th>\n",
              "      <th>duration</th>\n",
              "    </tr>\n",
              "  </thead>\n",
              "  <tbody>\n",
              "    <tr>\n",
              "      <th>0</th>\n",
              "      <td>420</td>\n",
              "      <td>50</td>\n",
              "    </tr>\n",
              "    <tr>\n",
              "      <th>1</th>\n",
              "      <td>380</td>\n",
              "      <td>40</td>\n",
              "    </tr>\n",
              "    <tr>\n",
              "      <th>2</th>\n",
              "      <td>390</td>\n",
              "      <td>45</td>\n",
              "    </tr>\n",
              "  </tbody>\n",
              "</table>\n",
              "</div>\n",
              "    <div class=\"colab-df-buttons\">\n",
              "\n",
              "  <div class=\"colab-df-container\">\n",
              "    <button class=\"colab-df-convert\" onclick=\"convertToInteractive('df-6733e16b-b5fb-4ca8-b183-111cf356a281')\"\n",
              "            title=\"Convert this dataframe to an interactive table.\"\n",
              "            style=\"display:none;\">\n",
              "\n",
              "  <svg xmlns=\"http://www.w3.org/2000/svg\" height=\"24px\" viewBox=\"0 -960 960 960\">\n",
              "    <path d=\"M120-120v-720h720v720H120Zm60-500h600v-160H180v160Zm220 220h160v-160H400v160Zm0 220h160v-160H400v160ZM180-400h160v-160H180v160Zm440 0h160v-160H620v160ZM180-180h160v-160H180v160Zm440 0h160v-160H620v160Z\"/>\n",
              "  </svg>\n",
              "    </button>\n",
              "\n",
              "  <style>\n",
              "    .colab-df-container {\n",
              "      display:flex;\n",
              "      gap: 12px;\n",
              "    }\n",
              "\n",
              "    .colab-df-convert {\n",
              "      background-color: #E8F0FE;\n",
              "      border: none;\n",
              "      border-radius: 50%;\n",
              "      cursor: pointer;\n",
              "      display: none;\n",
              "      fill: #1967D2;\n",
              "      height: 32px;\n",
              "      padding: 0 0 0 0;\n",
              "      width: 32px;\n",
              "    }\n",
              "\n",
              "    .colab-df-convert:hover {\n",
              "      background-color: #E2EBFA;\n",
              "      box-shadow: 0px 1px 2px rgba(60, 64, 67, 0.3), 0px 1px 3px 1px rgba(60, 64, 67, 0.15);\n",
              "      fill: #174EA6;\n",
              "    }\n",
              "\n",
              "    .colab-df-buttons div {\n",
              "      margin-bottom: 4px;\n",
              "    }\n",
              "\n",
              "    [theme=dark] .colab-df-convert {\n",
              "      background-color: #3B4455;\n",
              "      fill: #D2E3FC;\n",
              "    }\n",
              "\n",
              "    [theme=dark] .colab-df-convert:hover {\n",
              "      background-color: #434B5C;\n",
              "      box-shadow: 0px 1px 3px 1px rgba(0, 0, 0, 0.15);\n",
              "      filter: drop-shadow(0px 1px 2px rgba(0, 0, 0, 0.3));\n",
              "      fill: #FFFFFF;\n",
              "    }\n",
              "  </style>\n",
              "\n",
              "    <script>\n",
              "      const buttonEl =\n",
              "        document.querySelector('#df-6733e16b-b5fb-4ca8-b183-111cf356a281 button.colab-df-convert');\n",
              "      buttonEl.style.display =\n",
              "        google.colab.kernel.accessAllowed ? 'block' : 'none';\n",
              "\n",
              "      async function convertToInteractive(key) {\n",
              "        const element = document.querySelector('#df-6733e16b-b5fb-4ca8-b183-111cf356a281');\n",
              "        const dataTable =\n",
              "          await google.colab.kernel.invokeFunction('convertToInteractive',\n",
              "                                                    [key], {});\n",
              "        if (!dataTable) return;\n",
              "\n",
              "        const docLinkHtml = 'Like what you see? Visit the ' +\n",
              "          '<a target=\"_blank\" href=https://colab.research.google.com/notebooks/data_table.ipynb>data table notebook</a>'\n",
              "          + ' to learn more about interactive tables.';\n",
              "        element.innerHTML = '';\n",
              "        dataTable['output_type'] = 'display_data';\n",
              "        await google.colab.output.renderOutput(dataTable, element);\n",
              "        const docLink = document.createElement('div');\n",
              "        docLink.innerHTML = docLinkHtml;\n",
              "        element.appendChild(docLink);\n",
              "      }\n",
              "    </script>\n",
              "  </div>\n",
              "\n",
              "\n",
              "    <div id=\"df-ae93f034-12ac-40e5-83ac-8ec71d1f82ca\">\n",
              "      <button class=\"colab-df-quickchart\" onclick=\"quickchart('df-ae93f034-12ac-40e5-83ac-8ec71d1f82ca')\"\n",
              "                title=\"Suggest charts\"\n",
              "                style=\"display:none;\">\n",
              "\n",
              "<svg xmlns=\"http://www.w3.org/2000/svg\" height=\"24px\"viewBox=\"0 0 24 24\"\n",
              "     width=\"24px\">\n",
              "    <g>\n",
              "        <path d=\"M19 3H5c-1.1 0-2 .9-2 2v14c0 1.1.9 2 2 2h14c1.1 0 2-.9 2-2V5c0-1.1-.9-2-2-2zM9 17H7v-7h2v7zm4 0h-2V7h2v10zm4 0h-2v-4h2v4z\"/>\n",
              "    </g>\n",
              "</svg>\n",
              "      </button>\n",
              "\n",
              "<style>\n",
              "  .colab-df-quickchart {\n",
              "      --bg-color: #E8F0FE;\n",
              "      --fill-color: #1967D2;\n",
              "      --hover-bg-color: #E2EBFA;\n",
              "      --hover-fill-color: #174EA6;\n",
              "      --disabled-fill-color: #AAA;\n",
              "      --disabled-bg-color: #DDD;\n",
              "  }\n",
              "\n",
              "  [theme=dark] .colab-df-quickchart {\n",
              "      --bg-color: #3B4455;\n",
              "      --fill-color: #D2E3FC;\n",
              "      --hover-bg-color: #434B5C;\n",
              "      --hover-fill-color: #FFFFFF;\n",
              "      --disabled-bg-color: #3B4455;\n",
              "      --disabled-fill-color: #666;\n",
              "  }\n",
              "\n",
              "  .colab-df-quickchart {\n",
              "    background-color: var(--bg-color);\n",
              "    border: none;\n",
              "    border-radius: 50%;\n",
              "    cursor: pointer;\n",
              "    display: none;\n",
              "    fill: var(--fill-color);\n",
              "    height: 32px;\n",
              "    padding: 0;\n",
              "    width: 32px;\n",
              "  }\n",
              "\n",
              "  .colab-df-quickchart:hover {\n",
              "    background-color: var(--hover-bg-color);\n",
              "    box-shadow: 0 1px 2px rgba(60, 64, 67, 0.3), 0 1px 3px 1px rgba(60, 64, 67, 0.15);\n",
              "    fill: var(--button-hover-fill-color);\n",
              "  }\n",
              "\n",
              "  .colab-df-quickchart-complete:disabled,\n",
              "  .colab-df-quickchart-complete:disabled:hover {\n",
              "    background-color: var(--disabled-bg-color);\n",
              "    fill: var(--disabled-fill-color);\n",
              "    box-shadow: none;\n",
              "  }\n",
              "\n",
              "  .colab-df-spinner {\n",
              "    border: 2px solid var(--fill-color);\n",
              "    border-color: transparent;\n",
              "    border-bottom-color: var(--fill-color);\n",
              "    animation:\n",
              "      spin 1s steps(1) infinite;\n",
              "  }\n",
              "\n",
              "  @keyframes spin {\n",
              "    0% {\n",
              "      border-color: transparent;\n",
              "      border-bottom-color: var(--fill-color);\n",
              "      border-left-color: var(--fill-color);\n",
              "    }\n",
              "    20% {\n",
              "      border-color: transparent;\n",
              "      border-left-color: var(--fill-color);\n",
              "      border-top-color: var(--fill-color);\n",
              "    }\n",
              "    30% {\n",
              "      border-color: transparent;\n",
              "      border-left-color: var(--fill-color);\n",
              "      border-top-color: var(--fill-color);\n",
              "      border-right-color: var(--fill-color);\n",
              "    }\n",
              "    40% {\n",
              "      border-color: transparent;\n",
              "      border-right-color: var(--fill-color);\n",
              "      border-top-color: var(--fill-color);\n",
              "    }\n",
              "    60% {\n",
              "      border-color: transparent;\n",
              "      border-right-color: var(--fill-color);\n",
              "    }\n",
              "    80% {\n",
              "      border-color: transparent;\n",
              "      border-right-color: var(--fill-color);\n",
              "      border-bottom-color: var(--fill-color);\n",
              "    }\n",
              "    90% {\n",
              "      border-color: transparent;\n",
              "      border-bottom-color: var(--fill-color);\n",
              "    }\n",
              "  }\n",
              "</style>\n",
              "\n",
              "      <script>\n",
              "        async function quickchart(key) {\n",
              "          const quickchartButtonEl =\n",
              "            document.querySelector('#' + key + ' button');\n",
              "          quickchartButtonEl.disabled = true;  // To prevent multiple clicks.\n",
              "          quickchartButtonEl.classList.add('colab-df-spinner');\n",
              "          try {\n",
              "            const charts = await google.colab.kernel.invokeFunction(\n",
              "                'suggestCharts', [key], {});\n",
              "          } catch (error) {\n",
              "            console.error('Error during call to suggestCharts:', error);\n",
              "          }\n",
              "          quickchartButtonEl.classList.remove('colab-df-spinner');\n",
              "          quickchartButtonEl.classList.add('colab-df-quickchart-complete');\n",
              "        }\n",
              "        (() => {\n",
              "          let quickchartButtonEl =\n",
              "            document.querySelector('#df-ae93f034-12ac-40e5-83ac-8ec71d1f82ca button');\n",
              "          quickchartButtonEl.style.display =\n",
              "            google.colab.kernel.accessAllowed ? 'block' : 'none';\n",
              "        })();\n",
              "      </script>\n",
              "    </div>\n",
              "\n",
              "  <div id=\"id_cf2f5a26-90c0-4719-b6d3-7efc12d4b45e\">\n",
              "    <style>\n",
              "      .colab-df-generate {\n",
              "        background-color: #E8F0FE;\n",
              "        border: none;\n",
              "        border-radius: 50%;\n",
              "        cursor: pointer;\n",
              "        display: none;\n",
              "        fill: #1967D2;\n",
              "        height: 32px;\n",
              "        padding: 0 0 0 0;\n",
              "        width: 32px;\n",
              "      }\n",
              "\n",
              "      .colab-df-generate:hover {\n",
              "        background-color: #E2EBFA;\n",
              "        box-shadow: 0px 1px 2px rgba(60, 64, 67, 0.3), 0px 1px 3px 1px rgba(60, 64, 67, 0.15);\n",
              "        fill: #174EA6;\n",
              "      }\n",
              "\n",
              "      [theme=dark] .colab-df-generate {\n",
              "        background-color: #3B4455;\n",
              "        fill: #D2E3FC;\n",
              "      }\n",
              "\n",
              "      [theme=dark] .colab-df-generate:hover {\n",
              "        background-color: #434B5C;\n",
              "        box-shadow: 0px 1px 3px 1px rgba(0, 0, 0, 0.15);\n",
              "        filter: drop-shadow(0px 1px 2px rgba(0, 0, 0, 0.3));\n",
              "        fill: #FFFFFF;\n",
              "      }\n",
              "    </style>\n",
              "    <button class=\"colab-df-generate\" onclick=\"generateWithVariable('df')\"\n",
              "            title=\"Generate code using this dataframe.\"\n",
              "            style=\"display:none;\">\n",
              "\n",
              "  <svg xmlns=\"http://www.w3.org/2000/svg\" height=\"24px\"viewBox=\"0 0 24 24\"\n",
              "       width=\"24px\">\n",
              "    <path d=\"M7,19H8.4L18.45,9,17,7.55,7,17.6ZM5,21V16.75L18.45,3.32a2,2,0,0,1,2.83,0l1.4,1.43a1.91,1.91,0,0,1,.58,1.4,1.91,1.91,0,0,1-.58,1.4L9.25,21ZM18.45,9,17,7.55Zm-12,3A5.31,5.31,0,0,0,4.9,8.1,5.31,5.31,0,0,0,1,6.5,5.31,5.31,0,0,0,4.9,4.9,5.31,5.31,0,0,0,6.5,1,5.31,5.31,0,0,0,8.1,4.9,5.31,5.31,0,0,0,12,6.5,5.46,5.46,0,0,0,6.5,12Z\"/>\n",
              "  </svg>\n",
              "    </button>\n",
              "    <script>\n",
              "      (() => {\n",
              "      const buttonEl =\n",
              "        document.querySelector('#id_cf2f5a26-90c0-4719-b6d3-7efc12d4b45e button.colab-df-generate');\n",
              "      buttonEl.style.display =\n",
              "        google.colab.kernel.accessAllowed ? 'block' : 'none';\n",
              "\n",
              "      buttonEl.onclick = () => {\n",
              "        google.colab.notebook.generateWithVariable('df');\n",
              "      }\n",
              "      })();\n",
              "    </script>\n",
              "  </div>\n",
              "\n",
              "    </div>\n",
              "  </div>\n"
            ],
            "application/vnd.google.colaboratory.intrinsic+json": {
              "type": "dataframe",
              "variable_name": "df",
              "summary": "{\n  \"name\": \"df\",\n  \"rows\": 3,\n  \"fields\": [\n    {\n      \"column\": \"calories\",\n      \"properties\": {\n        \"dtype\": \"number\",\n        \"std\": 20,\n        \"min\": 380,\n        \"max\": 420,\n        \"num_unique_values\": 3,\n        \"samples\": [\n          420,\n          380,\n          390\n        ],\n        \"semantic_type\": \"\",\n        \"description\": \"\"\n      }\n    },\n    {\n      \"column\": \"duration\",\n      \"properties\": {\n        \"dtype\": \"number\",\n        \"std\": 5,\n        \"min\": 40,\n        \"max\": 50,\n        \"num_unique_values\": 3,\n        \"samples\": [\n          50,\n          40,\n          45\n        ],\n        \"semantic_type\": \"\",\n        \"description\": \"\"\n      }\n    }\n  ]\n}"
            }
          },
          "metadata": {},
          "execution_count": 96
        }
      ]
    }
  ],
  "metadata": {
    "colab": {
      "name": "Te damos la bienvenida a Colaboratory",
      "provenance": []
    },
    "kernelspec": {
      "display_name": "Python 3",
      "name": "python3"
    }
  },
  "nbformat": 4,
  "nbformat_minor": 0
}